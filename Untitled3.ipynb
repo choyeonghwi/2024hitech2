{
  "nbformat": 4,
  "nbformat_minor": 0,
  "metadata": {
    "colab": {
      "provenance": [],
      "authorship_tag": "ABX9TyPe2ueuTb8PkvM9ycFMbbnC",
      "include_colab_link": true
    },
    "kernelspec": {
      "name": "python3",
      "display_name": "Python 3"
    },
    "language_info": {
      "name": "python"
    }
  },
  "cells": [
    {
      "cell_type": "markdown",
      "metadata": {
        "id": "view-in-github",
        "colab_type": "text"
      },
      "source": [
        "<a href=\"https://colab.research.google.com/github/choyeonghwi/2024hitech2/blob/main/Untitled3.ipynb\" target=\"_parent\"><img src=\"https://colab.research.google.com/assets/colab-badge.svg\" alt=\"Open In Colab\"/></a>"
      ]
    },
    {
      "cell_type": "code",
      "execution_count": 1,
      "metadata": {
        "id": "8IjdJ4BqK6cw"
      },
      "outputs": [],
      "source": [
        "import tensorflow as tf\n",
        "import pandas as pd"
      ]
    },
    {
      "cell_type": "code",
      "source": [
        "파일경로 =https://raw.githubusercontent.com/none2222222/2024hitech/main/boston.csv\n",
        "보스턴 = pd.read_csv(파일경로)\n",
        "print(보스턴.columns)\n",
        "보스턴.head()"
      ],
      "metadata": {
        "id": "_kBOscAOOVcP"
      },
      "execution_count": null,
      "outputs": []
    },
    {
      "cell_type": "code",
      "source": [
        "독립 = 보스턴[['crim','zn','indus','chas','nox','rm','age','dis','rad','tax','ptratio','b','istat]']\n",
        "종속 =보스턴 {medv'}\n",
        "print (독립 shape,종속 shape)"
      ],
      "metadata": {
        "id": "mLNeTVPHPWLC"
      },
      "execution_count": null,
      "outputs": []
    },
    {
      "cell_type": "code",
      "source": [],
      "metadata": {
        "id": "dQFtyPZJPDT1"
      },
      "execution_count": null,
      "outputs": []
    }
  ]
}